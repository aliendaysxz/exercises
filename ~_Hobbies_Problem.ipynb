{
  "nbformat": 4,
  "nbformat_minor": 0,
  "metadata": {
    "colab": {
      "provenance": [],
      "authorship_tag": "ABX9TyP2nX7rv8/8AqE8yhclPHN2",
      "include_colab_link": true
    },
    "kernelspec": {
      "name": "python3",
      "display_name": "Python 3"
    },
    "language_info": {
      "name": "python"
    }
  },
  "cells": [
    {
      "cell_type": "markdown",
      "metadata": {
        "id": "view-in-github",
        "colab_type": "text"
      },
      "source": [
        "<a href=\"https://colab.research.google.com/github/aliendaysxz/exercises/blob/main/~_Hobbies_Problem.ipynb\" target=\"_parent\"><img src=\"https://colab.research.google.com/assets/colab-badge.svg\" alt=\"Open In Colab\"/></a>"
      ]
    },
    {
      "cell_type": "code",
      "source": [
        "import numpy as np\n",
        "import pandas as pd\n"
      ],
      "metadata": {
        "id": "vZKvFCMpKpZ4"
      },
      "execution_count": 151,
      "outputs": []
    },
    {
      "cell_type": "code",
      "execution_count": 110,
      "metadata": {
        "colab": {
          "base_uri": "https://localhost:8080/"
        },
        "id": "AK0PftshKSIP",
        "outputId": "8576ff4a-b932-48bc-8d06-e64febab823d"
      },
      "outputs": [
        {
          "output_type": "stream",
          "name": "stdout",
          "text": [
            "                                   man                               woman\n",
            "0           [fishing, biking, reading]           [biking, reading, movies]\n",
            "1          [hunting, mudding, fishing]                 [fishing, drinking]\n",
            "2           [reading, movies, running]                 [knitting, reading]\n",
            "3  [running, reading, biking, mudding]  [running, biking, fishing, movies]\n",
            "4          [movies, reading, yodeling]                            [movies]\n"
          ]
        }
      ],
      "source": [
        "couples = pd.DataFrame({\n",
        "    'man': [\n",
        "        ['fishing', 'biking', 'reading'],\n",
        "        ['hunting', 'mudding', 'fishing'],\n",
        "        ['reading', 'movies', 'running'],\n",
        "        ['running', 'reading', 'biking', 'mudding'],\n",
        "        ['movies', 'reading', 'yodeling']\n",
        "    ],\n",
        "    'woman': [\n",
        "        ['biking', 'reading', 'movies'],\n",
        "        ['fishing', 'drinking'],\n",
        "        ['knitting', 'reading'],\n",
        "        ['running', 'biking', 'fishing', 'movies'],\n",
        "        ['movies']\n",
        "    ]\n",
        "})\n",
        "print(couples)"
      ]
    },
    {
      "cell_type": "code",
      "source": [
        "hobbies_shared = couples.apply(lambda x: np.intersect1d(x.loc['man'], x.loc['woman']), axis=1)"
      ],
      "metadata": {
        "id": "2n3mGqixqH0Z"
      },
      "execution_count": 143,
      "outputs": []
    },
    {
      "cell_type": "code",
      "source": [
        "mans = couples.apply(lambda x: np.setdiff1d(x.loc['man'], x.loc['woman']), axis=1)\n",
        "print(mans)"
      ],
      "metadata": {
        "colab": {
          "base_uri": "https://localhost:8080/"
        },
        "id": "F30U5ttqupmz",
        "outputId": "90eb745f-ed69-49b9-d79e-937007d9d0c7"
      },
      "execution_count": 179,
      "outputs": [
        {
          "output_type": "stream",
          "name": "stdout",
          "text": [
            "0              [fishing]\n",
            "1     [hunting, mudding]\n",
            "2      [movies, running]\n",
            "3     [mudding, reading]\n",
            "4    [reading, yodeling]\n",
            "dtype: object\n"
          ]
        }
      ]
    },
    {
      "cell_type": "code",
      "source": [
        "womans = couples.apply(lambda x: np.setdiff1d(x.loc['woman'], x.loc['man']), axis=1)\n",
        "print(womans)"
      ],
      "metadata": {
        "colab": {
          "base_uri": "https://localhost:8080/"
        },
        "id": "DeHCwTM8yLqm",
        "outputId": "05418088-6649-4b12-d54b-8c73be34e00f"
      },
      "execution_count": 180,
      "outputs": [
        {
          "output_type": "stream",
          "name": "stdout",
          "text": [
            "0             [movies]\n",
            "1           [drinking]\n",
            "2           [knitting]\n",
            "3    [fishing, movies]\n",
            "4                   []\n",
            "dtype: object\n"
          ]
        }
      ]
    },
    {
      "cell_type": "code",
      "source": [
        "hobbies_not_shared = pd.concat([mans, womans], axis=1, keys=['man', 'woman'])\n",
        "print(hobbies_not_shared, '\\n')\n",
        "print(hobbies_shared)"
      ],
      "metadata": {
        "colab": {
          "base_uri": "https://localhost:8080/"
        },
        "id": "bgSNzYNRyoF0",
        "outputId": "d9a8ec74-e965-4355-fae7-ffc3e46883c2"
      },
      "execution_count": 145,
      "outputs": [
        {
          "output_type": "stream",
          "name": "stdout",
          "text": [
            "                   man              woman\n",
            "0            [fishing]           [movies]\n",
            "1   [hunting, mudding]         [drinking]\n",
            "2    [movies, running]         [knitting]\n",
            "3   [mudding, reading]  [fishing, movies]\n",
            "4  [reading, yodeling]                 [] \n",
            "\n",
            "0    [biking, reading]\n",
            "1            [fishing]\n",
            "2            [reading]\n",
            "3    [biking, running]\n",
            "4             [movies]\n",
            "dtype: object\n"
          ]
        }
      ]
    },
    {
      "cell_type": "code",
      "source": [
        "i = np.intersect1d(couples['man'].iloc[0], couples['woman'].iloc[0])\n",
        "print(i)"
      ],
      "metadata": {
        "id": "Gt5I6lmOWYy8"
      },
      "execution_count": 113,
      "outputs": []
    },
    {
      "cell_type": "code",
      "source": [
        "#ALTERNATIVO\n",
        "sets = couples.applymap(set)\n",
        "print(sets)"
      ],
      "metadata": {
        "colab": {
          "base_uri": "https://localhost:8080/"
        },
        "id": "X_W_lKUjzYx5",
        "outputId": "ddb28a12-6318-4a4f-ac8d-5abd20a46678"
      },
      "execution_count": 177,
      "outputs": [
        {
          "output_type": "stream",
          "name": "stdout",
          "text": [
            "                                   man                               woman\n",
            "0           {fishing, reading, biking}           {movies, reading, biking}\n",
            "1          {hunting, fishing, mudding}                 {fishing, drinking}\n",
            "2           {running, movies, reading}                 {reading, knitting}\n",
            "3  {running, reading, biking, mudding}  {running, movies, fishing, biking}\n",
            "4          {movies, reading, yodeling}                            {movies}\n"
          ]
        }
      ]
    },
    {
      "cell_type": "code",
      "source": [
        "woman_not_man = sets.diff(axis=1, periods=1).drop(columns='man')\n",
        "print(woman_not_man)"
      ],
      "metadata": {
        "colab": {
          "base_uri": "https://localhost:8080/"
        },
        "id": "-RN2RlG61bl3",
        "outputId": "6977d52a-c7a9-4f03-9b49-a250d33cb8cb"
      },
      "execution_count": 178,
      "outputs": [
        {
          "output_type": "stream",
          "name": "stdout",
          "text": [
            "               woman\n",
            "0           {movies}\n",
            "1         {drinking}\n",
            "2         {knitting}\n",
            "3  {fishing, movies}\n",
            "4                 {}\n"
          ]
        }
      ]
    },
    {
      "cell_type": "code",
      "source": [
        "man_not_woman = sets.diff(axis=1, periods=-1).drop(columns='woman')\n",
        "print(man_not_woman)"
      ],
      "metadata": {
        "colab": {
          "base_uri": "https://localhost:8080/"
        },
        "id": "_PJJ95421zNf",
        "outputId": "846d84c6-218b-4ec9-abd0-f54c6f1de8b9"
      },
      "execution_count": 166,
      "outputs": [
        {
          "output_type": "stream",
          "name": "stdout",
          "text": [
            "                   man\n",
            "0            {fishing}\n",
            "1   {hunting, mudding}\n",
            "2    {running, movies}\n",
            "3   {mudding, reading}\n",
            "4  {reading, yodeling}\n"
          ]
        }
      ]
    },
    {
      "cell_type": "code",
      "source": [
        "shared = pd.concat([woman_not_man, man_not_woman], axis=1).applymap(list)\n",
        "print(shared)"
      ],
      "metadata": {
        "colab": {
          "base_uri": "https://localhost:8080/"
        },
        "id": "sZCYsXEr3vKh",
        "outputId": "3d22f06e-e2c2-44a2-d90c-9a726645f852"
      },
      "execution_count": 171,
      "outputs": [
        {
          "output_type": "stream",
          "name": "stdout",
          "text": [
            "               woman                  man\n",
            "0           [movies]            [fishing]\n",
            "1         [drinking]   [hunting, mudding]\n",
            "2         [knitting]    [running, movies]\n",
            "3  [fishing, movies]   [mudding, reading]\n",
            "4                 []  [reading, yodeling]\n"
          ]
        }
      ]
    }
  ]
}