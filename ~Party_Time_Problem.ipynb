{
  "nbformat": 4,
  "nbformat_minor": 0,
  "metadata": {
    "colab": {
      "provenance": [],
      "authorship_tag": "ABX9TyOsSdr9T+Gh0ade5w7M0HWq",
      "include_colab_link": true
    },
    "kernelspec": {
      "name": "python3",
      "display_name": "Python 3"
    },
    "language_info": {
      "name": "python"
    }
  },
  "cells": [
    {
      "cell_type": "markdown",
      "metadata": {
        "id": "view-in-github",
        "colab_type": "text"
      },
      "source": [
        "<a href=\"https://colab.research.google.com/github/aliendaysxz/exercises/blob/main/~Party_Time_Problem.ipynb\" target=\"_parent\"><img src=\"https://colab.research.google.com/assets/colab-badge.svg\" alt=\"Open In Colab\"/></a>"
      ]
    },
    {
      "cell_type": "code",
      "execution_count": 173,
      "metadata": {
        "id": "wHuZNtlh47Hg"
      },
      "outputs": [],
      "source": [
        "import numpy as np\n",
        "import pandas as pd"
      ]
    },
    {
      "cell_type": "code",
      "source": [
        "rng = np.random.default_rng(123)\n",
        "df = pd.DataFrame({\n",
        "    'john': rng.choice([True, False], size=10, replace=True),\n",
        "    'judy': rng.choice([True, False], size=10, replace=True)\n",
        "})\n",
        "days_til_party = pd.Series([np.nan]*10).convert_dtypes()\n",
        "df['days_til_party'] = days_til_party\n",
        "print(df)"
      ],
      "metadata": {
        "colab": {
          "base_uri": "https://localhost:8080/"
        },
        "id": "IykoT3F-4_jp",
        "outputId": "b7f4a46a-be85-4eac-c244-e7668cea0bc1"
      },
      "execution_count": 174,
      "outputs": [
        {
          "output_type": "stream",
          "name": "stdout",
          "text": [
            "    john   judy  days_til_party\n",
            "0   True   True            <NA>\n",
            "1  False  False            <NA>\n",
            "2  False   True            <NA>\n",
            "3   True  False            <NA>\n",
            "4  False   True            <NA>\n",
            "5   True   True            <NA>\n",
            "6   True  False            <NA>\n",
            "7   True  False            <NA>\n",
            "8   True  False            <NA>\n",
            "9   True  False            <NA>\n"
          ]
        }
      ]
    },
    {
      "cell_type": "code",
      "source": [
        "a = df['john'] & df['judy'] == True\n",
        "print(a,'\\n')"
      ],
      "metadata": {
        "colab": {
          "base_uri": "https://localhost:8080/"
        },
        "id": "GDK-FfBhhK-G",
        "outputId": "72c50c8f-0ff1-410d-9e83-cfdbb62ed6a5"
      },
      "execution_count": 175,
      "outputs": [
        {
          "output_type": "stream",
          "name": "stdout",
          "text": [
            "0     True\n",
            "1    False\n",
            "2    False\n",
            "3    False\n",
            "4    False\n",
            "5     True\n",
            "6    False\n",
            "7    False\n",
            "8    False\n",
            "9    False\n",
            "dtype: bool \n",
            "\n"
          ]
        }
      ]
    },
    {
      "cell_type": "code",
      "source": [
        "days_til_party.iloc[a] = 0\n",
        "print(days_til_party)"
      ],
      "metadata": {
        "colab": {
          "base_uri": "https://localhost:8080/"
        },
        "id": "QtaLchtjj1_F",
        "outputId": "873dcf5b-323c-407d-b9ff-67cbd0142738"
      },
      "execution_count": 176,
      "outputs": [
        {
          "output_type": "stream",
          "name": "stdout",
          "text": [
            "0       0\n",
            "1    <NA>\n",
            "2    <NA>\n",
            "3    <NA>\n",
            "4    <NA>\n",
            "5       0\n",
            "6    <NA>\n",
            "7    <NA>\n",
            "8    <NA>\n",
            "9    <NA>\n",
            "dtype: Int64\n"
          ]
        }
      ]
    },
    {
      "cell_type": "code",
      "source": [
        "contagem = days_til_party[df[a].index[0]+1 : df[a].index[1]]\n",
        "days_til_party.iloc[contagem.index] = list(contagem.index)[::-1]\n",
        "df['days_til_party'] = days_til_party\n",
        "print(df)"
      ],
      "metadata": {
        "colab": {
          "base_uri": "https://localhost:8080/"
        },
        "id": "5pphziESv3qt",
        "outputId": "ccbbba81-e353-437b-9a84-a860c13c1b92"
      },
      "execution_count": 177,
      "outputs": [
        {
          "output_type": "stream",
          "name": "stdout",
          "text": [
            "    john   judy  days_til_party\n",
            "0   True   True               0\n",
            "1  False  False               4\n",
            "2  False   True               3\n",
            "3   True  False               2\n",
            "4  False   True               1\n",
            "5   True   True               0\n",
            "6   True  False            <NA>\n",
            "7   True  False            <NA>\n",
            "8   True  False            <NA>\n",
            "9   True  False            <NA>\n"
          ]
        }
      ]
    },
    {
      "cell_type": "code",
      "source": [
        "#ALTERNATIVO\n",
        "dfc = df.copy()\n",
        "dtp = days_til_party.copy()\n",
        "\n",
        "party = dfc.john & dfc.judy\n",
        "grps = party.iloc[::-1].cumsum()\n",
        "print(party,'\\n')\n",
        "print(grps)"
      ],
      "metadata": {
        "colab": {
          "base_uri": "https://localhost:8080/"
        },
        "id": "v3yawPUGyDHu",
        "outputId": "bf1eff27-e506-4d8f-82ed-44ae320d91ce"
      },
      "execution_count": 178,
      "outputs": [
        {
          "output_type": "stream",
          "name": "stdout",
          "text": [
            "0     True\n",
            "1    False\n",
            "2    False\n",
            "3    False\n",
            "4    False\n",
            "5     True\n",
            "6    False\n",
            "7    False\n",
            "8    False\n",
            "9    False\n",
            "dtype: bool \n",
            "\n",
            "9    0\n",
            "8    0\n",
            "7    0\n",
            "6    0\n",
            "5    1\n",
            "4    1\n",
            "3    1\n",
            "2    1\n",
            "1    1\n",
            "0    2\n",
            "dtype: int64\n"
          ]
        }
      ]
    },
    {
      "cell_type": "code",
      "source": [
        "print(party.groupby(grps).cumcount(ascending=False))\n",
        "dfc['dtp'] = party.groupby(grps).cumcount(ascending=False)"
      ],
      "metadata": {
        "colab": {
          "base_uri": "https://localhost:8080/"
        },
        "id": "7tJDNHny1Kom",
        "outputId": "758961bf-e795-4bda-dbf0-96ca25dcee53"
      },
      "execution_count": 179,
      "outputs": [
        {
          "output_type": "stream",
          "name": "stdout",
          "text": [
            "0    0\n",
            "1    4\n",
            "2    3\n",
            "3    2\n",
            "4    1\n",
            "5    0\n",
            "6    3\n",
            "7    2\n",
            "8    1\n",
            "9    0\n",
            "dtype: int64\n"
          ]
        }
      ]
    },
    {
      "cell_type": "code",
      "source": [
        "dfc.loc[(party.loc[party].index[-1] + 1):, 'dtp'] = pd.NA\n",
        "print(dfc)"
      ],
      "metadata": {
        "colab": {
          "base_uri": "https://localhost:8080/"
        },
        "id": "P1AsmsHp4Bc0",
        "outputId": "1f383c0d-91d1-4d43-9454-d1838f211819"
      },
      "execution_count": 198,
      "outputs": [
        {
          "output_type": "stream",
          "name": "stdout",
          "text": [
            "    john   judy  days_til_party  dtp\n",
            "0   True   True               0  0.0\n",
            "1  False  False               4  4.0\n",
            "2  False   True               3  3.0\n",
            "3   True  False               2  2.0\n",
            "4  False   True               1  1.0\n",
            "5   True   True               0  0.0\n",
            "6   True  False            <NA>  NaN\n",
            "7   True  False            <NA>  NaN\n",
            "8   True  False            <NA>  NaN\n",
            "9   True  False            <NA>  NaN\n"
          ]
        }
      ]
    },
    {
      "cell_type": "code",
      "source": [
        "#NOTES\n",
        "s = pd.Series([2, np.nan, 5, -1, 0])\n",
        "print(s,'\\n')\n",
        "s.cumsum()\n",
        "#NOTES"
      ],
      "metadata": {
        "colab": {
          "base_uri": "https://localhost:8080/"
        },
        "id": "dHLhqmJh1zhp",
        "outputId": "33b7dcce-84d7-40b0-847c-12f66fc878d1"
      },
      "execution_count": 181,
      "outputs": [
        {
          "output_type": "stream",
          "name": "stdout",
          "text": [
            "0    2.0\n",
            "1    NaN\n",
            "2    5.0\n",
            "3   -1.0\n",
            "4    0.0\n",
            "dtype: float64 \n",
            "\n"
          ]
        },
        {
          "output_type": "execute_result",
          "data": {
            "text/plain": [
              "0    2.0\n",
              "1    NaN\n",
              "2    7.0\n",
              "3    6.0\n",
              "4    6.0\n",
              "dtype: float64"
            ]
          },
          "metadata": {},
          "execution_count": 181
        }
      ]
    }
  ]
}