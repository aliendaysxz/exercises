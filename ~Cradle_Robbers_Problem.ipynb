{
  "nbformat": 4,
  "nbformat_minor": 0,
  "metadata": {
    "colab": {
      "provenance": [],
      "authorship_tag": "ABX9TyNjHvdvsFB0q2jMaXa3DmKV",
      "include_colab_link": true
    },
    "kernelspec": {
      "name": "python3",
      "display_name": "Python 3"
    },
    "language_info": {
      "name": "python"
    }
  },
  "cells": [
    {
      "cell_type": "markdown",
      "metadata": {
        "id": "view-in-github",
        "colab_type": "text"
      },
      "source": [
        "<a href=\"https://colab.research.google.com/github/aliendaysxz/exercises/blob/main/~Cradle_Robbers_Problem.ipynb\" target=\"_parent\"><img src=\"https://colab.research.google.com/assets/colab-badge.svg\" alt=\"Open In Colab\"/></a>"
      ]
    },
    {
      "cell_type": "code",
      "execution_count": 60,
      "metadata": {
        "id": "CzvcSZqj2DPF"
      },
      "outputs": [],
      "source": [
        "import numpy as np\n",
        "import pandas as pd"
      ]
    },
    {
      "cell_type": "code",
      "source": [
        "couples = pd.DataFrame({\n",
        "    'person1': ['Cody', 'Dustin', 'Peter', 'Adam', 'Ryan', 'Brian', 'Jordan', 'Gregory'],\n",
        "    'person2': ['Sarah', 'Amber', 'Brianna', 'Caitlin', 'Rachel', 'Kristen', 'Alyssa', 'Morgan']\n",
        "}).convert_dtypes()\n",
        "\n",
        "ages = pd.DataFrame({\n",
        "    'person': ['Adam', 'Alyssa', 'Amber', 'Brian', 'Brianna', 'Caitlin', 'Cody', 'Dustin', 'Gregory', 'Jordan',\n",
        "               'Kristen', 'Rachel', 'Morgan', 'Peter', 'Ryan', 'Sarah'],\n",
        "    'age': [62, 40, 41, 50, 65, 29, 27, 39, 42, 39, 33, 61, 43, 55, 28, 36]\n",
        "}).convert_dtypes()\n",
        "\n",
        "print(couples,'\\n')\n",
        "print(ages)"
      ],
      "metadata": {
        "colab": {
          "base_uri": "https://localhost:8080/"
        },
        "id": "6JrH4miZ2aFH",
        "outputId": "8c03eb47-4aff-4ff1-d360-79da22560bd7"
      },
      "execution_count": 61,
      "outputs": [
        {
          "output_type": "stream",
          "name": "stdout",
          "text": [
            "   person1  person2\n",
            "0     Cody    Sarah\n",
            "1   Dustin    Amber\n",
            "2    Peter  Brianna\n",
            "3     Adam  Caitlin\n",
            "4     Ryan   Rachel\n",
            "5    Brian  Kristen\n",
            "6   Jordan   Alyssa\n",
            "7  Gregory   Morgan \n",
            "\n",
            "     person  age\n",
            "0      Adam   62\n",
            "1    Alyssa   40\n",
            "2     Amber   41\n",
            "3     Brian   50\n",
            "4   Brianna   65\n",
            "5   Caitlin   29\n",
            "6      Cody   27\n",
            "7    Dustin   39\n",
            "8   Gregory   42\n",
            "9    Jordan   39\n",
            "10  Kristen   33\n",
            "11   Rachel   61\n",
            "12   Morgan   43\n",
            "13    Peter   55\n",
            "14     Ryan   28\n",
            "15    Sarah   36\n"
          ]
        }
      ]
    },
    {
      "cell_type": "code",
      "source": [
        "a = pd.merge(\n",
        "    left=couples,\n",
        "    right=ages,\n",
        "    how='left',\n",
        "    left_on='person1',\n",
        "    right_on='person').drop(columns=['person2', 'person', 'age2', 'age'])\n",
        "print(a)"
      ],
      "metadata": {
        "colab": {
          "base_uri": "https://localhost:8080/"
        },
        "id": "BkIkCswh3PlE",
        "outputId": "8c9a2f97-7c1b-4d4c-adf2-e5c9ba145515"
      },
      "execution_count": 159,
      "outputs": [
        {
          "output_type": "stream",
          "name": "stdout",
          "text": [
            "   person1 age1\n",
            "0     Cody   27\n",
            "1   Dustin   39\n",
            "2    Peter   55\n",
            "3     Adam   62\n",
            "4     Ryan   28\n",
            "5    Brian   50\n",
            "6   Jordan   39\n",
            "7  Gregory   42\n"
          ]
        }
      ]
    },
    {
      "cell_type": "code",
      "source": [
        "b = pd.merge(\n",
        "    left=couples,\n",
        "    right=ages,\n",
        "    how='left',\n",
        "    left_on='person2',\n",
        "    right_on='person').drop(columns=['person1', 'person', 'age1', 'age'])\n",
        "print(b)"
      ],
      "metadata": {
        "colab": {
          "base_uri": "https://localhost:8080/"
        },
        "id": "CXI_yYX36ibu",
        "outputId": "67a8ea0a-4fa5-4016-b7f9-119ff79e65ed"
      },
      "execution_count": 160,
      "outputs": [
        {
          "output_type": "stream",
          "name": "stdout",
          "text": [
            "   person2 age2\n",
            "0    Sarah   36\n",
            "1    Amber   41\n",
            "2  Brianna   65\n",
            "3  Caitlin   29\n",
            "4   Rachel   61\n",
            "5  Kristen   33\n",
            "6   Alyssa   40\n",
            "7   Morgan   43\n"
          ]
        }
      ]
    },
    {
      "cell_type": "code",
      "source": [
        "c = pd.concat([a,b], axis=1)\n",
        "print(a,'\\n')\n",
        "print(b,'\\n')\n",
        "print(c)"
      ],
      "metadata": {
        "colab": {
          "base_uri": "https://localhost:8080/"
        },
        "id": "ipQY9ix27RzO",
        "outputId": "78cd55e3-9bd4-4cb4-c141-43d4a0f647d9"
      },
      "execution_count": 161,
      "outputs": [
        {
          "output_type": "stream",
          "name": "stdout",
          "text": [
            "   person1 age1\n",
            "0     Cody   27\n",
            "1   Dustin   39\n",
            "2    Peter   55\n",
            "3     Adam   62\n",
            "4     Ryan   28\n",
            "5    Brian   50\n",
            "6   Jordan   39\n",
            "7  Gregory   42 \n",
            "\n",
            "   person2 age2\n",
            "0    Sarah   36\n",
            "1    Amber   41\n",
            "2  Brianna   65\n",
            "3  Caitlin   29\n",
            "4   Rachel   61\n",
            "5  Kristen   33\n",
            "6   Alyssa   40\n",
            "7   Morgan   43 \n",
            "\n",
            "   person1 age1  person2 age2\n",
            "0     Cody   27    Sarah   36\n",
            "1   Dustin   39    Amber   41\n",
            "2    Peter   55  Brianna   65\n",
            "3     Adam   62  Caitlin   29\n",
            "4     Ryan   28   Rachel   61\n",
            "5    Brian   50  Kristen   33\n",
            "6   Jordan   39   Alyssa   40\n",
            "7  Gregory   42   Morgan   43\n"
          ]
        }
      ]
    },
    {
      "cell_type": "code",
      "source": [
        "x = c.loc[(a['age1'] - b['age2'] >= 20) | (b['age2'] - a['age1'] >= 20) & (a['age1'] < 30) | (b['age2'] < 30)]\n",
        "print(x)"
      ],
      "metadata": {
        "colab": {
          "base_uri": "https://localhost:8080/"
        },
        "id": "a56tBTVV8yyU",
        "outputId": "8951d9b9-eddc-4a1d-9ea6-abb8d0cb6744"
      },
      "execution_count": 283,
      "outputs": [
        {
          "output_type": "stream",
          "name": "stdout",
          "text": [
            "  person1 age1  person2 age2\n",
            "3    Adam   62  Caitlin   29\n",
            "4    Ryan   28   Rachel   61\n"
          ]
        }
      ]
    },
    {
      "cell_type": "code",
      "source": [
        "#ALTERNATIVO\n",
        "d = ages.set_index('person').age\n",
        "print(d,'\\n')\n",
        "print(d.loc[couples.person1])"
      ],
      "metadata": {
        "colab": {
          "base_uri": "https://localhost:8080/"
        },
        "id": "rJSU1MRyAURD",
        "outputId": "724c2879-d17d-4d6b-8014-e222ea1e76e6"
      },
      "execution_count": 73,
      "outputs": [
        {
          "output_type": "stream",
          "name": "stdout",
          "text": [
            "person\n",
            "Adam       62\n",
            "Alyssa     40\n",
            "Amber      41\n",
            "Brian      50\n",
            "Brianna    65\n",
            "Caitlin    29\n",
            "Cody       27\n",
            "Dustin     39\n",
            "Gregory    42\n",
            "Jordan     39\n",
            "Kristen    33\n",
            "Rachel     61\n",
            "Morgan     43\n",
            "Peter      55\n",
            "Ryan       28\n",
            "Sarah      36\n",
            "Name: age, dtype: Int64 \n",
            "\n",
            "person\n",
            "Cody       27\n",
            "Dustin     39\n",
            "Peter      55\n",
            "Adam       62\n",
            "Ryan       28\n",
            "Brian      50\n",
            "Jordan     39\n",
            "Gregory    42\n",
            "Name: age, dtype: Int64\n"
          ]
        }
      ]
    },
    {
      "cell_type": "code",
      "source": [
        "couples['age1'] = d.loc[couples.person1].to_numpy()\n",
        "couples['age2'] = d.loc[couples.person2].to_numpy()\n",
        "print(couples)"
      ],
      "metadata": {
        "colab": {
          "base_uri": "https://localhost:8080/"
        },
        "id": "JD8P635-GS1V",
        "outputId": "151b9502-2aca-42b4-aa6c-c8de6e6e991d"
      },
      "execution_count": 74,
      "outputs": [
        {
          "output_type": "stream",
          "name": "stdout",
          "text": [
            "   person1  person2 age1 age2\n",
            "0     Cody    Sarah   27   36\n",
            "1   Dustin    Amber   39   41\n",
            "2    Peter  Brianna   55   65\n",
            "3     Adam  Caitlin   62   29\n",
            "4     Ryan   Rachel   28   61\n",
            "5    Brian  Kristen   50   33\n",
            "6   Jordan   Alyssa   39   40\n",
            "7  Gregory   Morgan   42   43\n"
          ]
        }
      ]
    },
    {
      "cell_type": "code",
      "source": [
        "cr1 = couples.loc[(couples.age1 - couples.age2 >= 20) & (couples.age2 < 30), 'person1']\n",
        "cr2 = couples.loc[(couples.age2 - couples.age1 >= 20) & (couples.age1 < 30), 'person2']\n",
        "cradle_robbers = pd.concat([cr1, cr2])\n",
        "print(cradle_robbers)"
      ],
      "metadata": {
        "colab": {
          "base_uri": "https://localhost:8080/"
        },
        "id": "bnvzAPG-HKF1",
        "outputId": "570451e3-f519-4154-bac2-f5ced6732780"
      },
      "execution_count": 224,
      "outputs": [
        {
          "output_type": "stream",
          "name": "stdout",
          "text": [
            "3      Adam\n",
            "4    Rachel\n",
            "dtype: string\n"
          ]
        }
      ]
    }
  ]
}